{
  "nbformat": 4,
  "nbformat_minor": 0,
  "metadata": {
    "colab": {
      "provenance": []
    },
    "kernelspec": {
      "name": "python3",
      "display_name": "Python 3"
    },
    "language_info": {
      "name": "python"
    }
  },
  "cells": [
    {
      "cell_type": "markdown",
      "source": [
        "# Exercise 2"
      ],
      "metadata": {
        "id": "tqFPmGbJ7Oah"
      }
    },
    {
      "cell_type": "markdown",
      "source": [
        "\n",
        "## Forward Pass and Backward Pass"
      ],
      "metadata": {
        "id": "cUkdx6a498S8"
      }
    },
    {
      "cell_type": "markdown",
      "source": [
        "<img src=\"https://github.com/robitussin/CCDEPLRL_EXERCISES/blob/main/images/exercise2.png?raw=true\"/>"
      ],
      "metadata": {
        "id": "0Q5Io34f-x38"
      }
    },
    {
      "cell_type": "markdown",
      "source": [
        "<img src=\"\"/>"
      ],
      "metadata": {
        "id": "-ZTBRmkM7JMR"
      }
    },
    {
      "cell_type": "markdown",
      "source": [
        "1. What is the predicted output? (`20 points`)"
      ],
      "metadata": {
        "id": "7HD5MNgg7hIu"
      }
    },
    {
      "cell_type": "code",
      "execution_count": 16,
      "metadata": {
        "id": "2cbutiml5cm_",
        "colab": {
          "base_uri": "https://localhost:8080/"
        },
        "outputId": "2dd90187-c5c7-41a3-d2b0-2131399e7fee"
      },
      "outputs": [
        {
          "output_type": "stream",
          "name": "stdout",
          "text": [
            "Answer: 4.0\n"
          ]
        }
      ],
      "source": [
        "# put your answer here\n",
        "\n",
        "# z2 = 2.0\n",
        "# w1 = 2.0\n",
        "\n",
        "# z2 = w1z1\n",
        "# z2 = 2.0 x 2.0 = 4.0\n",
        "# z2 = 4.0\n",
        "\n",
        "print(\"Answer:\", 4.0)"
      ]
    },
    {
      "cell_type": "markdown",
      "source": [
        "2. Find the loss using the Mean Squared Error (MSE) function (`20 points`)"
      ],
      "metadata": {
        "id": "JTh2z2v97k0J"
      }
    },
    {
      "cell_type": "code",
      "source": [
        "# put your answer here\n",
        "# z2 = 4.0\n",
        "# y = 1\n",
        "# C = (z2 -y)^2\n",
        "# C = (4.0 - 1)^2\n",
        "# C = (3.0)^2\n",
        "# C = 9\n",
        "\n",
        "print(\"Answer:\", 9)"
      ],
      "metadata": {
        "id": "F2D7opAr7t3U",
        "colab": {
          "base_uri": "https://localhost:8080/"
        },
        "outputId": "14711122-8444-4b1e-8ccc-e783cd1a1124"
      },
      "execution_count": 17,
      "outputs": [
        {
          "output_type": "stream",
          "name": "stdout",
          "text": [
            "Answer: 9\n"
          ]
        }
      ]
    },
    {
      "cell_type": "markdown",
      "source": [
        "3. What is the derivative of $z_{2}$ with respect to $w_{1}$? (`20 points`)"
      ],
      "metadata": {
        "id": "wz5D8wEl7wtT"
      }
    },
    {
      "cell_type": "code",
      "source": [
        "# put your answer here\n",
        "# z2/w1\n",
        "# z2 = 4.0\n",
        "# w1 = 2.0\n",
        "# z2/w1\n",
        "# 4.0 / 2.0 = 2.0\n",
        "# 2.0\n",
        "\n",
        "print(\"Answer:\", 2.0)"
      ],
      "metadata": {
        "id": "n8Q_9JJ57xFL",
        "colab": {
          "base_uri": "https://localhost:8080/"
        },
        "outputId": "0e495a82-4d72-4eff-d80e-33bb5ddebcdc"
      },
      "execution_count": 18,
      "outputs": [
        {
          "output_type": "stream",
          "name": "stdout",
          "text": [
            "Answer: 2.0\n"
          ]
        }
      ]
    },
    {
      "cell_type": "markdown",
      "source": [
        "4. What is the derivative of the loss with respect to $z_{2}$? (`20 points`)"
      ],
      "metadata": {
        "id": "HVpt0n-E9TIx"
      }
    },
    {
      "cell_type": "code",
      "source": [
        "# put your answer here\n",
        "\n",
        "# z2 = 4.0\n",
        "# y = 1\n",
        "# 2(z2 - y)\n",
        "# 2(4.0 - 1)\n",
        "# 2(3)\n",
        "# 6\n",
        "\n",
        "print(\"Answer:\", 6)"
      ],
      "metadata": {
        "id": "KM4fEL059grQ",
        "colab": {
          "base_uri": "https://localhost:8080/"
        },
        "outputId": "bd10648e-1a74-4169-85c2-02bc28a016eb"
      },
      "execution_count": 19,
      "outputs": [
        {
          "output_type": "stream",
          "name": "stdout",
          "text": [
            "Answer: 6\n"
          ]
        }
      ]
    },
    {
      "cell_type": "markdown",
      "source": [
        "5. What is the derivative of the loss with respect to $w_{1}$? (`20 points`)"
      ],
      "metadata": {
        "id": "hlO5xdMx9hhl"
      }
    },
    {
      "cell_type": "code",
      "source": [
        "# put your answer here\n",
        "\n",
        "# c/w1 = 2 * 2(z2 - y)\n",
        "# c/w1 = 2 * 2(z1w1 - y)\n",
        "# c/w1 = 2 * 2(2.0 * w1  1)\n",
        "# c/w1 = 4 (2.0 * w1 - 1)\n",
        "# c/w1 = 8 * w1 - 4\n",
        "\n",
        "print(\"Answer: 8 * w1 - 4\")\n",
        "\n"
      ],
      "metadata": {
        "id": "-xP2grHW9hxK",
        "colab": {
          "base_uri": "https://localhost:8080/"
        },
        "outputId": "5fc268f6-8fc4-4a11-f133-66c6a669b044"
      },
      "execution_count": 20,
      "outputs": [
        {
          "output_type": "stream",
          "name": "stdout",
          "text": [
            "Answer: 8 * w1 - 4\n"
          ]
        }
      ]
    }
  ]
}
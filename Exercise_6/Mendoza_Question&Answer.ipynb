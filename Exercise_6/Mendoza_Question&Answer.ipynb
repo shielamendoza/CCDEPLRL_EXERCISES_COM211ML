{
  "nbformat": 4,
  "nbformat_minor": 0,
  "metadata": {
    "colab": {
      "provenance": []
    },
    "kernelspec": {
      "name": "python3",
      "display_name": "Python 3"
    },
    "language_info": {
      "name": "python"
    }
  },
  "cells": [
    {
      "cell_type": "code",
      "execution_count": 49,
      "metadata": {
        "id": "QYYMD9AQtYP1"
      },
      "outputs": [],
      "source": [
        "from transformers import AutoModelForQuestionAnswering, AutoTokenizer, pipeline"
      ]
    },
    {
      "cell_type": "code",
      "source": [
        "model_name = \"deepset/roberta-base-squad2\""
      ],
      "metadata": {
        "id": "Tj-_sPu4toVI"
      },
      "execution_count": 50,
      "outputs": []
    },
    {
      "cell_type": "code",
      "source": [
        "# Get predictions\n",
        "nlp = pipeline('question-answering', model=model_name, tokenizer=model_name)\n",
        "QA_input = {\n",
        "    'question': 'Who is my oldest cat?',\n",
        "    'context': 'My name is Shiela. My nicknames are shie and maemae. I was born on September 14 at Paombong Bulacan but i currently live in Parañaque city. I am studying computer science at National University Manila. I also love cats. In fact, I own ten cats. The oldest one is oreo while the youngest one is pancho.'\n",
        "}\n",
        "res = nlp(QA_input)"
      ],
      "metadata": {
        "id": "19cDgiEPtvyF"
      },
      "execution_count": 51,
      "outputs": []
    },
    {
      "cell_type": "code",
      "source": [
        "# Load model & tokenizer\n",
        "model = AutoModelForQuestionAnswering.from_pretrained(model_name)\n",
        "tokenizer = AutoTokenizer.from_pretrained(model_name)"
      ],
      "metadata": {
        "id": "FJMT28MNt0Vd"
      },
      "execution_count": 52,
      "outputs": []
    },
    {
      "cell_type": "code",
      "source": [
        "# Print the answer\n",
        "print(\"Answer:\", res['answer'])"
      ],
      "metadata": {
        "colab": {
          "base_uri": "https://localhost:8080/"
        },
        "id": "6MWv63l_uILV",
        "outputId": "760b5081-e8a5-4d59-93f9-8c51bcf46bbe"
      },
      "execution_count": 53,
      "outputs": [
        {
          "output_type": "stream",
          "name": "stdout",
          "text": [
            "Answer: oreo\n"
          ]
        }
      ]
    }
  ]
}
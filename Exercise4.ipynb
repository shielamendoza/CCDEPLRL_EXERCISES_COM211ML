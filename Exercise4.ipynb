{
  "cells": [
    {
      "cell_type": "markdown",
      "metadata": {
        "id": "hY-fjvwfy2P9"
      },
      "source": [
        "# Exercise 4"
      ]
    },
    {
      "cell_type": "code",
      "execution_count": 5,
      "metadata": {
        "id": "drsUfVVXyxJl"
      },
      "outputs": [],
      "source": [
        "import tensorflow as tf\n",
        "\n",
        "from tensorflow.keras.preprocessing.text import Tokenizer\n",
        "from tensorflow.keras.preprocessing.sequence import pad_sequences"
      ]
    },
    {
      "cell_type": "code",
      "execution_count": 6,
      "metadata": {
        "id": "y4e6GG2CzJUq"
      },
      "outputs": [],
      "source": [
        "import numpy as np\n",
        "import pandas as pd\n",
        "\n",
        "dataset = pd.read_json('reviews.json')\n"
      ]
    },
    {
      "cell_type": "code",
      "source": [
        "\n",
        "mask = (dataset['rating'] > 0 ) & (dataset['rating'] <4)\n",
        "column_name = 'rating'\n",
        "dataset.loc[mask, column_name] = 0\n",
        "\n",
        "mask = (dataset['rating'] > 3 ) & (dataset['rating'] < 6)\n",
        "column_name = 'rating'\n",
        "dataset.loc[mask, column_name] = 1\n",
        "\n",
        "dataset.head()\n",
        "\n"
      ],
      "metadata": {
        "colab": {
          "base_uri": "https://localhost:8080/",
          "height": 206
        },
        "id": "lW6mgNsBLNcQ",
        "outputId": "453506a1-e413-442d-fde2-9ea8f7c08b42"
      },
      "execution_count": 7,
      "outputs": [
        {
          "output_type": "execute_result",
          "data": {
            "text/plain": [
              "                                              review  rating\n",
              "0                    sir okay armygreen shorts nice        1\n",
              "1  di pareha yong mga size nila may sobrang liit ...       1\n",
              "2  super worth it ang ganda Sombra grabi order na...       1\n",
              "3                                   ganda po salamat       1\n",
              "4                maayos pagkadeliver maganda den sya       1"
            ],
            "text/html": [
              "\n",
              "  <div id=\"df-d7fa7633-aea5-4c88-95c0-aea740e5f4dc\" class=\"colab-df-container\">\n",
              "    <div>\n",
              "<style scoped>\n",
              "    .dataframe tbody tr th:only-of-type {\n",
              "        vertical-align: middle;\n",
              "    }\n",
              "\n",
              "    .dataframe tbody tr th {\n",
              "        vertical-align: top;\n",
              "    }\n",
              "\n",
              "    .dataframe thead th {\n",
              "        text-align: right;\n",
              "    }\n",
              "</style>\n",
              "<table border=\"1\" class=\"dataframe\">\n",
              "  <thead>\n",
              "    <tr style=\"text-align: right;\">\n",
              "      <th></th>\n",
              "      <th>review</th>\n",
              "      <th>rating</th>\n",
              "    </tr>\n",
              "  </thead>\n",
              "  <tbody>\n",
              "    <tr>\n",
              "      <th>0</th>\n",
              "      <td>sir okay armygreen shorts nice</td>\n",
              "      <td>1</td>\n",
              "    </tr>\n",
              "    <tr>\n",
              "      <th>1</th>\n",
              "      <td>di pareha yong mga size nila may sobrang liit ...</td>\n",
              "      <td>1</td>\n",
              "    </tr>\n",
              "    <tr>\n",
              "      <th>2</th>\n",
              "      <td>super worth it ang ganda Sombra grabi order na...</td>\n",
              "      <td>1</td>\n",
              "    </tr>\n",
              "    <tr>\n",
              "      <th>3</th>\n",
              "      <td>ganda po salamat</td>\n",
              "      <td>1</td>\n",
              "    </tr>\n",
              "    <tr>\n",
              "      <th>4</th>\n",
              "      <td>maayos pagkadeliver maganda den sya</td>\n",
              "      <td>1</td>\n",
              "    </tr>\n",
              "  </tbody>\n",
              "</table>\n",
              "</div>\n",
              "    <div class=\"colab-df-buttons\">\n",
              "\n",
              "  <div class=\"colab-df-container\">\n",
              "    <button class=\"colab-df-convert\" onclick=\"convertToInteractive('df-d7fa7633-aea5-4c88-95c0-aea740e5f4dc')\"\n",
              "            title=\"Convert this dataframe to an interactive table.\"\n",
              "            style=\"display:none;\">\n",
              "\n",
              "  <svg xmlns=\"http://www.w3.org/2000/svg\" height=\"24px\" viewBox=\"0 -960 960 960\">\n",
              "    <path d=\"M120-120v-720h720v720H120Zm60-500h600v-160H180v160Zm220 220h160v-160H400v160Zm0 220h160v-160H400v160ZM180-400h160v-160H180v160Zm440 0h160v-160H620v160ZM180-180h160v-160H180v160Zm440 0h160v-160H620v160Z\"/>\n",
              "  </svg>\n",
              "    </button>\n",
              "\n",
              "  <style>\n",
              "    .colab-df-container {\n",
              "      display:flex;\n",
              "      gap: 12px;\n",
              "    }\n",
              "\n",
              "    .colab-df-convert {\n",
              "      background-color: #E8F0FE;\n",
              "      border: none;\n",
              "      border-radius: 50%;\n",
              "      cursor: pointer;\n",
              "      display: none;\n",
              "      fill: #1967D2;\n",
              "      height: 32px;\n",
              "      padding: 0 0 0 0;\n",
              "      width: 32px;\n",
              "    }\n",
              "\n",
              "    .colab-df-convert:hover {\n",
              "      background-color: #E2EBFA;\n",
              "      box-shadow: 0px 1px 2px rgba(60, 64, 67, 0.3), 0px 1px 3px 1px rgba(60, 64, 67, 0.15);\n",
              "      fill: #174EA6;\n",
              "    }\n",
              "\n",
              "    .colab-df-buttons div {\n",
              "      margin-bottom: 4px;\n",
              "    }\n",
              "\n",
              "    [theme=dark] .colab-df-convert {\n",
              "      background-color: #3B4455;\n",
              "      fill: #D2E3FC;\n",
              "    }\n",
              "\n",
              "    [theme=dark] .colab-df-convert:hover {\n",
              "      background-color: #434B5C;\n",
              "      box-shadow: 0px 1px 3px 1px rgba(0, 0, 0, 0.15);\n",
              "      filter: drop-shadow(0px 1px 2px rgba(0, 0, 0, 0.3));\n",
              "      fill: #FFFFFF;\n",
              "    }\n",
              "  </style>\n",
              "\n",
              "    <script>\n",
              "      const buttonEl =\n",
              "        document.querySelector('#df-d7fa7633-aea5-4c88-95c0-aea740e5f4dc button.colab-df-convert');\n",
              "      buttonEl.style.display =\n",
              "        google.colab.kernel.accessAllowed ? 'block' : 'none';\n",
              "\n",
              "      async function convertToInteractive(key) {\n",
              "        const element = document.querySelector('#df-d7fa7633-aea5-4c88-95c0-aea740e5f4dc');\n",
              "        const dataTable =\n",
              "          await google.colab.kernel.invokeFunction('convertToInteractive',\n",
              "                                                    [key], {});\n",
              "        if (!dataTable) return;\n",
              "\n",
              "        const docLinkHtml = 'Like what you see? Visit the ' +\n",
              "          '<a target=\"_blank\" href=https://colab.research.google.com/notebooks/data_table.ipynb>data table notebook</a>'\n",
              "          + ' to learn more about interactive tables.';\n",
              "        element.innerHTML = '';\n",
              "        dataTable['output_type'] = 'display_data';\n",
              "        await google.colab.output.renderOutput(dataTable, element);\n",
              "        const docLink = document.createElement('div');\n",
              "        docLink.innerHTML = docLinkHtml;\n",
              "        element.appendChild(docLink);\n",
              "      }\n",
              "    </script>\n",
              "  </div>\n",
              "\n",
              "\n",
              "<div id=\"df-cc475cff-7511-4887-b78e-80b766bb39d1\">\n",
              "  <button class=\"colab-df-quickchart\" onclick=\"quickchart('df-cc475cff-7511-4887-b78e-80b766bb39d1')\"\n",
              "            title=\"Suggest charts\"\n",
              "            style=\"display:none;\">\n",
              "\n",
              "<svg xmlns=\"http://www.w3.org/2000/svg\" height=\"24px\"viewBox=\"0 0 24 24\"\n",
              "     width=\"24px\">\n",
              "    <g>\n",
              "        <path d=\"M19 3H5c-1.1 0-2 .9-2 2v14c0 1.1.9 2 2 2h14c1.1 0 2-.9 2-2V5c0-1.1-.9-2-2-2zM9 17H7v-7h2v7zm4 0h-2V7h2v10zm4 0h-2v-4h2v4z\"/>\n",
              "    </g>\n",
              "</svg>\n",
              "  </button>\n",
              "\n",
              "<style>\n",
              "  .colab-df-quickchart {\n",
              "      --bg-color: #E8F0FE;\n",
              "      --fill-color: #1967D2;\n",
              "      --hover-bg-color: #E2EBFA;\n",
              "      --hover-fill-color: #174EA6;\n",
              "      --disabled-fill-color: #AAA;\n",
              "      --disabled-bg-color: #DDD;\n",
              "  }\n",
              "\n",
              "  [theme=dark] .colab-df-quickchart {\n",
              "      --bg-color: #3B4455;\n",
              "      --fill-color: #D2E3FC;\n",
              "      --hover-bg-color: #434B5C;\n",
              "      --hover-fill-color: #FFFFFF;\n",
              "      --disabled-bg-color: #3B4455;\n",
              "      --disabled-fill-color: #666;\n",
              "  }\n",
              "\n",
              "  .colab-df-quickchart {\n",
              "    background-color: var(--bg-color);\n",
              "    border: none;\n",
              "    border-radius: 50%;\n",
              "    cursor: pointer;\n",
              "    display: none;\n",
              "    fill: var(--fill-color);\n",
              "    height: 32px;\n",
              "    padding: 0;\n",
              "    width: 32px;\n",
              "  }\n",
              "\n",
              "  .colab-df-quickchart:hover {\n",
              "    background-color: var(--hover-bg-color);\n",
              "    box-shadow: 0 1px 2px rgba(60, 64, 67, 0.3), 0 1px 3px 1px rgba(60, 64, 67, 0.15);\n",
              "    fill: var(--button-hover-fill-color);\n",
              "  }\n",
              "\n",
              "  .colab-df-quickchart-complete:disabled,\n",
              "  .colab-df-quickchart-complete:disabled:hover {\n",
              "    background-color: var(--disabled-bg-color);\n",
              "    fill: var(--disabled-fill-color);\n",
              "    box-shadow: none;\n",
              "  }\n",
              "\n",
              "  .colab-df-spinner {\n",
              "    border: 2px solid var(--fill-color);\n",
              "    border-color: transparent;\n",
              "    border-bottom-color: var(--fill-color);\n",
              "    animation:\n",
              "      spin 1s steps(1) infinite;\n",
              "  }\n",
              "\n",
              "  @keyframes spin {\n",
              "    0% {\n",
              "      border-color: transparent;\n",
              "      border-bottom-color: var(--fill-color);\n",
              "      border-left-color: var(--fill-color);\n",
              "    }\n",
              "    20% {\n",
              "      border-color: transparent;\n",
              "      border-left-color: var(--fill-color);\n",
              "      border-top-color: var(--fill-color);\n",
              "    }\n",
              "    30% {\n",
              "      border-color: transparent;\n",
              "      border-left-color: var(--fill-color);\n",
              "      border-top-color: var(--fill-color);\n",
              "      border-right-color: var(--fill-color);\n",
              "    }\n",
              "    40% {\n",
              "      border-color: transparent;\n",
              "      border-right-color: var(--fill-color);\n",
              "      border-top-color: var(--fill-color);\n",
              "    }\n",
              "    60% {\n",
              "      border-color: transparent;\n",
              "      border-right-color: var(--fill-color);\n",
              "    }\n",
              "    80% {\n",
              "      border-color: transparent;\n",
              "      border-right-color: var(--fill-color);\n",
              "      border-bottom-color: var(--fill-color);\n",
              "    }\n",
              "    90% {\n",
              "      border-color: transparent;\n",
              "      border-bottom-color: var(--fill-color);\n",
              "    }\n",
              "  }\n",
              "</style>\n",
              "\n",
              "  <script>\n",
              "    async function quickchart(key) {\n",
              "      const quickchartButtonEl =\n",
              "        document.querySelector('#' + key + ' button');\n",
              "      quickchartButtonEl.disabled = true;  // To prevent multiple clicks.\n",
              "      quickchartButtonEl.classList.add('colab-df-spinner');\n",
              "      try {\n",
              "        const charts = await google.colab.kernel.invokeFunction(\n",
              "            'suggestCharts', [key], {});\n",
              "      } catch (error) {\n",
              "        console.error('Error during call to suggestCharts:', error);\n",
              "      }\n",
              "      quickchartButtonEl.classList.remove('colab-df-spinner');\n",
              "      quickchartButtonEl.classList.add('colab-df-quickchart-complete');\n",
              "    }\n",
              "    (() => {\n",
              "      let quickchartButtonEl =\n",
              "        document.querySelector('#df-cc475cff-7511-4887-b78e-80b766bb39d1 button');\n",
              "      quickchartButtonEl.style.display =\n",
              "        google.colab.kernel.accessAllowed ? 'block' : 'none';\n",
              "    })();\n",
              "  </script>\n",
              "</div>\n",
              "    </div>\n",
              "  </div>\n"
            ],
            "application/vnd.google.colaboratory.intrinsic+json": {
              "type": "dataframe",
              "variable_name": "dataset",
              "summary": "{\n  \"name\": \"dataset\",\n  \"rows\": 1001,\n  \"fields\": [\n    {\n      \"column\": \"review\",\n      \"properties\": {\n        \"dtype\": \"string\",\n        \"num_unique_values\": 914,\n        \"samples\": [\n          \"mabilis lang dumating. naka sealed pa ng magagos maliban sa mismong sealed ng nail polish. ang gabda ng kulay at nabili ko lang for only 5 pesos!\",\n          \"i ordered three different shirts, only of them arrived here correctly. one is in wrong size and the other is not the color i ordered and wrong size too.!!!!\",\n          \"The speaker is working and the quality of the sound is very nice. I don't know why but I didn't get the design that I want. Instead of Army Green, I got Grey but its still good. The packaging is also nice. You should buy this product. It is worth it. \"\n        ],\n        \"semantic_type\": \"\",\n        \"description\": \"\"\n      }\n    },\n    {\n      \"column\": \"rating\",\n      \"properties\": {\n        \"dtype\": \"number\",\n        \"std\": 0,\n        \"min\": 0,\n        \"max\": 1,\n        \"num_unique_values\": 2,\n        \"samples\": [\n          0,\n          1\n        ],\n        \"semantic_type\": \"\",\n        \"description\": \"\"\n      }\n    }\n  ]\n}"
            }
          },
          "metadata": {},
          "execution_count": 7
        }
      ]
    },
    {
      "cell_type": "markdown",
      "source": [
        "## 1. Tokenize the data"
      ],
      "metadata": {
        "id": "3En4gTR8MRXG"
      }
    },
    {
      "cell_type": "code",
      "source": [
        "sentences = dataset['review'].tolist()\n",
        "labels = dataset['rating'].tolist()\n",
        "\n",
        "# Separate out the sentences and labels into training and test sets\n",
        "training_size = int(len(sentences) * 0.8)\n",
        "\n",
        "training_sentences = sentences[0:training_size]\n",
        "testing_sentences = sentences[training_size:]\n",
        "training_labels = labels[0:training_size]\n",
        "testing_labels = labels[training_size:]\n",
        "\n",
        "# Make labels into numpy arrays for use with the network later\n",
        "training_labels_final = np.array(training_labels)\n",
        "testing_labels_final = np.array(testing_labels)"
      ],
      "metadata": {
        "id": "Q5WD0HudMUFr"
      },
      "execution_count": 8,
      "outputs": []
    },
    {
      "cell_type": "code",
      "source": [
        "vocab_size = 3000\n",
        "embedding_dim = 64\n",
        "max_length = 100\n",
        "trunc_type='post'\n",
        "padding_type='post'\n",
        "oov_tok = \"<OOV>\"\n",
        "\n",
        "tokenizer = Tokenizer(num_words = vocab_size, oov_token=oov_tok)\n",
        "tokenizer.fit_on_texts(training_sentences)\n",
        "word_index = tokenizer.word_index"
      ],
      "metadata": {
        "id": "ugMw6UGUtMum"
      },
      "execution_count": 9,
      "outputs": []
    },
    {
      "cell_type": "markdown",
      "source": [
        "## 2. Sequence the data"
      ],
      "metadata": {
        "id": "I5hVE73gMWzB"
      }
    },
    {
      "cell_type": "code",
      "source": [
        "sequences = tokenizer.texts_to_sequences(training_sentences)"
      ],
      "metadata": {
        "id": "Un5zy3cLMnLW"
      },
      "execution_count": 10,
      "outputs": []
    },
    {
      "cell_type": "markdown",
      "source": [
        "## 3. Pad the data"
      ],
      "metadata": {
        "id": "BLyaDf-_MojG"
      }
    },
    {
      "cell_type": "code",
      "source": [
        "padded = pad_sequences(sequences,maxlen=max_length, padding=padding_type,\n",
        "                       truncating=trunc_type)\n",
        "\n",
        "testing_sequences = tokenizer.texts_to_sequences(testing_sentences)\n",
        "testing_padded = pad_sequences(testing_sequences,maxlen=max_length,\n",
        "                               padding=padding_type, truncating=trunc_type)\n",
        "\n"
      ],
      "metadata": {
        "id": "bKP6XJLwMxNL"
      },
      "execution_count": 11,
      "outputs": []
    },
    {
      "cell_type": "markdown",
      "source": [
        "## 4. Train a sentiment model"
      ],
      "metadata": {
        "id": "RTU0X3wtMyIE"
      }
    },
    {
      "cell_type": "code",
      "source": [
        "model = tf.keras.Sequential([\n",
        "    tf.keras.layers.Embedding(vocab_size, embedding_dim, input_length=max_length),\n",
        "    tf.keras.layers.Flatten(),\n",
        "    tf.keras.layers.Dense(6, activation='relu'),\n",
        "    tf.keras.layers.Dense(1, activation='sigmoid')\n",
        "])\n",
        "model.compile(loss='binary_crossentropy',optimizer='adam',metrics=['accuracy'])\n",
        "model.summary()\n"
      ],
      "metadata": {
        "id": "_rK5pEDnM2lA",
        "colab": {
          "base_uri": "https://localhost:8080/"
        },
        "outputId": "e91c8c55-7ea7-495a-a92b-910ed705ed92"
      },
      "execution_count": 12,
      "outputs": [
        {
          "output_type": "stream",
          "name": "stdout",
          "text": [
            "Model: \"sequential\"\n",
            "_________________________________________________________________\n",
            " Layer (type)                Output Shape              Param #   \n",
            "=================================================================\n",
            " embedding (Embedding)       (None, 100, 64)           192000    \n",
            "                                                                 \n",
            " flatten (Flatten)           (None, 6400)              0         \n",
            "                                                                 \n",
            " dense (Dense)               (None, 6)                 38406     \n",
            "                                                                 \n",
            " dense_1 (Dense)             (None, 1)                 7         \n",
            "                                                                 \n",
            "=================================================================\n",
            "Total params: 230413 (900.05 KB)\n",
            "Trainable params: 230413 (900.05 KB)\n",
            "Non-trainable params: 0 (0.00 Byte)\n",
            "_________________________________________________________________\n"
          ]
        }
      ]
    },
    {
      "cell_type": "code",
      "source": [
        "num_epochs = 30\n",
        "model.fit(padded, training_labels_final, epochs=num_epochs, validation_data=(testing_padded, testing_labels_final))\n"
      ],
      "metadata": {
        "colab": {
          "base_uri": "https://localhost:8080/"
        },
        "id": "CoCd9hmWcItB",
        "outputId": "66daf273-4aaa-4a83-8012-8f2e9728144b"
      },
      "execution_count": 13,
      "outputs": [
        {
          "output_type": "stream",
          "name": "stdout",
          "text": [
            "Epoch 1/30\n",
            "25/25 [==============================] - 5s 131ms/step - loss: 0.6883 - accuracy: 0.5525 - val_loss: 0.7831 - val_accuracy: 0.2139\n",
            "Epoch 2/30\n",
            "25/25 [==============================] - 4s 169ms/step - loss: 0.6709 - accuracy: 0.5725 - val_loss: 0.7516 - val_accuracy: 0.2139\n",
            "Epoch 3/30\n",
            "25/25 [==============================] - 3s 132ms/step - loss: 0.6496 - accuracy: 0.5725 - val_loss: 0.7792 - val_accuracy: 0.2139\n",
            "Epoch 4/30\n",
            "25/25 [==============================] - 3s 110ms/step - loss: 0.6092 - accuracy: 0.5725 - val_loss: 0.7759 - val_accuracy: 0.2139\n",
            "Epoch 5/30\n",
            "25/25 [==============================] - 3s 106ms/step - loss: 0.5482 - accuracy: 0.6225 - val_loss: 0.7312 - val_accuracy: 0.3085\n",
            "Epoch 6/30\n",
            "25/25 [==============================] - 2s 89ms/step - loss: 0.4830 - accuracy: 0.7887 - val_loss: 0.8042 - val_accuracy: 0.2388\n",
            "Epoch 7/30\n",
            "25/25 [==============================] - 2s 92ms/step - loss: 0.4263 - accuracy: 0.8462 - val_loss: 0.7807 - val_accuracy: 0.4179\n",
            "Epoch 8/30\n",
            "25/25 [==============================] - 1s 62ms/step - loss: 0.3860 - accuracy: 0.9062 - val_loss: 0.8756 - val_accuracy: 0.2985\n",
            "Epoch 9/30\n",
            "25/25 [==============================] - 2s 63ms/step - loss: 0.3544 - accuracy: 0.9300 - val_loss: 0.8709 - val_accuracy: 0.3781\n",
            "Epoch 10/30\n",
            "25/25 [==============================] - 1s 37ms/step - loss: 0.2916 - accuracy: 0.9762 - val_loss: 0.5128 - val_accuracy: 0.7662\n",
            "Epoch 11/30\n",
            "25/25 [==============================] - 1s 43ms/step - loss: 0.1550 - accuracy: 0.9787 - val_loss: 0.4436 - val_accuracy: 0.8358\n",
            "Epoch 12/30\n",
            "25/25 [==============================] - 1s 51ms/step - loss: 0.1014 - accuracy: 0.9825 - val_loss: 0.4229 - val_accuracy: 0.8408\n",
            "Epoch 13/30\n",
            "25/25 [==============================] - 1s 29ms/step - loss: 0.0761 - accuracy: 0.9837 - val_loss: 0.4323 - val_accuracy: 0.8408\n",
            "Epoch 14/30\n",
            "25/25 [==============================] - 0s 11ms/step - loss: 0.0570 - accuracy: 0.9825 - val_loss: 0.5135 - val_accuracy: 0.7612\n",
            "Epoch 15/30\n",
            "25/25 [==============================] - 1s 30ms/step - loss: 0.0447 - accuracy: 0.9837 - val_loss: 0.4949 - val_accuracy: 0.7711\n",
            "Epoch 16/30\n",
            "25/25 [==============================] - 1s 31ms/step - loss: 0.0397 - accuracy: 0.9875 - val_loss: 0.5268 - val_accuracy: 0.7662\n",
            "Epoch 17/30\n",
            "25/25 [==============================] - 1s 31ms/step - loss: 0.0329 - accuracy: 0.9900 - val_loss: 0.6163 - val_accuracy: 0.7264\n",
            "Epoch 18/30\n",
            "25/25 [==============================] - 1s 30ms/step - loss: 0.0360 - accuracy: 0.9837 - val_loss: 0.5695 - val_accuracy: 0.7363\n",
            "Epoch 19/30\n",
            "25/25 [==============================] - 0s 17ms/step - loss: 0.0306 - accuracy: 0.9850 - val_loss: 0.5830 - val_accuracy: 0.7264\n",
            "Epoch 20/30\n",
            "25/25 [==============================] - 1s 26ms/step - loss: 0.0252 - accuracy: 0.9887 - val_loss: 0.5599 - val_accuracy: 0.7313\n",
            "Epoch 21/30\n",
            "25/25 [==============================] - 1s 39ms/step - loss: 0.0246 - accuracy: 0.9862 - val_loss: 0.6186 - val_accuracy: 0.7065\n",
            "Epoch 22/30\n",
            "25/25 [==============================] - 1s 21ms/step - loss: 0.0254 - accuracy: 0.9850 - val_loss: 0.6226 - val_accuracy: 0.7065\n",
            "Epoch 23/30\n",
            "25/25 [==============================] - 0s 11ms/step - loss: 0.0221 - accuracy: 0.9887 - val_loss: 0.5518 - val_accuracy: 0.7512\n",
            "Epoch 24/30\n",
            "25/25 [==============================] - 0s 17ms/step - loss: 0.0204 - accuracy: 0.9850 - val_loss: 0.5993 - val_accuracy: 0.7264\n",
            "Epoch 25/30\n",
            "25/25 [==============================] - 0s 18ms/step - loss: 0.0208 - accuracy: 0.9875 - val_loss: 0.6622 - val_accuracy: 0.7114\n",
            "Epoch 26/30\n",
            "25/25 [==============================] - 0s 12ms/step - loss: 0.0193 - accuracy: 0.9900 - val_loss: 0.5832 - val_accuracy: 0.7363\n",
            "Epoch 27/30\n",
            "25/25 [==============================] - 0s 18ms/step - loss: 0.0208 - accuracy: 0.9862 - val_loss: 0.5703 - val_accuracy: 0.7463\n",
            "Epoch 28/30\n",
            "25/25 [==============================] - 0s 19ms/step - loss: 0.0189 - accuracy: 0.9887 - val_loss: 0.6689 - val_accuracy: 0.7114\n",
            "Epoch 29/30\n",
            "25/25 [==============================] - 1s 44ms/step - loss: 0.0176 - accuracy: 0.9912 - val_loss: 0.5982 - val_accuracy: 0.7463\n",
            "Epoch 30/30\n",
            "25/25 [==============================] - 1s 22ms/step - loss: 0.0180 - accuracy: 0.9912 - val_loss: 0.6500 - val_accuracy: 0.7313\n"
          ]
        },
        {
          "output_type": "execute_result",
          "data": {
            "text/plain": [
              "<keras.src.callbacks.History at 0x7a2a521c9d50>"
            ]
          },
          "metadata": {},
          "execution_count": 13
        }
      ]
    },
    {
      "cell_type": "markdown",
      "source": [
        "## Get files for visualing the network"
      ],
      "metadata": {
        "id": "CNjOxlmhNNp8"
      }
    },
    {
      "cell_type": "code",
      "source": [
        "# First get the weights of the embedding layer\n",
        "e = model.layers[0]\n",
        "weights = e.get_weights()[0]\n",
        "print(weights.shape) # shape: (vocab_size, embedding_dim)\n"
      ],
      "metadata": {
        "id": "TcLIumAPNQ5W",
        "colab": {
          "base_uri": "https://localhost:8080/"
        },
        "outputId": "9d37b00b-12f6-4d27-f30c-fa8034eca7f6"
      },
      "execution_count": 14,
      "outputs": [
        {
          "output_type": "stream",
          "name": "stdout",
          "text": [
            "(3000, 64)\n"
          ]
        }
      ]
    },
    {
      "cell_type": "markdown",
      "source": [
        "## 5. Predict sentiment with new reviews"
      ],
      "metadata": {
        "id": "KmGupN3hM-C4"
      }
    },
    {
      "cell_type": "code",
      "source": [
        "# Use the model to predict a review\n",
        "fake_reviews = ['Mali yung kulay na pinadala niyo',\n",
        "                'Nasunog yung buhok ko sa product niyo',\n",
        "                'Hindi legit yung product',\n",
        "                'Kulang yung pinadala',\n",
        "                'Hindi maayos ang packaging',\n",
        "                'Masyadong maliit yung damit',\n",
        "                'May butas yung damit',\n",
        "                'Hindi ko nagustuhan yung produkto',\n",
        "                'Ang ganda nung product',\n",
        "                'Ok naman yung case']\n",
        "\n",
        "print(fake_reviews)\n",
        "\n",
        "# Create the sequences\n",
        "padding_type='post'\n",
        "sample_sequences = tokenizer.texts_to_sequences(fake_reviews)\n",
        "fakes_padded = pad_sequences(sample_sequences, padding=padding_type, maxlen=max_length)\n",
        "\n",
        "print('\\nHOT OFF THE PRESS! HERE ARE SOME NEWLY MINTED, ABSOLUTELY GENUINE REVIEWS!\\n')\n",
        "\n",
        "classes = model.predict(fakes_padded)\n",
        "\n",
        "# The closer the class is to 1, the more positive the review is deemed to be\n",
        "for x in range(len(fake_reviews)):\n",
        "  print(fake_reviews[x])\n",
        "  print(classes[x])\n",
        "  print('\\n')\n"
      ],
      "metadata": {
        "id": "FLQFHUCJNBNA",
        "colab": {
          "base_uri": "https://localhost:8080/"
        },
        "outputId": "5738c3d3-8ed6-473b-d605-2d555f53a82b"
      },
      "execution_count": 15,
      "outputs": [
        {
          "output_type": "stream",
          "name": "stdout",
          "text": [
            "['Mali yung kulay na pinadala niyo', 'Nasunog yung buhok ko sa product niyo', 'Hindi legit yung product', 'Kulang yung pinadala', 'Hindi maayos ang packaging', 'Masyadong maliit yung damit', 'May butas yung damit', 'Hindi ko nagustuhan yung produkto', 'Ang ganda nung product', 'Ok naman yung case']\n",
            "\n",
            "HOT OFF THE PRESS! HERE ARE SOME NEWLY MINTED, ABSOLUTELY GENUINE REVIEWS!\n",
            "\n",
            "1/1 [==============================] - 0s 76ms/step\n",
            "Mali yung kulay na pinadala niyo\n",
            "[0.0188629]\n",
            "\n",
            "\n",
            "Nasunog yung buhok ko sa product niyo\n",
            "[0.53021467]\n",
            "\n",
            "\n",
            "Hindi legit yung product\n",
            "[0.2920726]\n",
            "\n",
            "\n",
            "Kulang yung pinadala\n",
            "[0.00237773]\n",
            "\n",
            "\n",
            "Hindi maayos ang packaging\n",
            "[0.3477387]\n",
            "\n",
            "\n",
            "Masyadong maliit yung damit\n",
            "[0.03950476]\n",
            "\n",
            "\n",
            "May butas yung damit\n",
            "[0.00394353]\n",
            "\n",
            "\n",
            "Hindi ko nagustuhan yung produkto\n",
            "[0.05033471]\n",
            "\n",
            "\n",
            "Ang ganda nung product\n",
            "[0.9940585]\n",
            "\n",
            "\n",
            "Ok naman yung case\n",
            "[0.38830626]\n",
            "\n",
            "\n"
          ]
        }
      ]
    }
  ],
  "metadata": {
    "accelerator": "GPU",
    "colab": {
      "provenance": []
    },
    "kernelspec": {
      "display_name": "Python 3",
      "name": "python3"
    }
  },
  "nbformat": 4,
  "nbformat_minor": 0
}
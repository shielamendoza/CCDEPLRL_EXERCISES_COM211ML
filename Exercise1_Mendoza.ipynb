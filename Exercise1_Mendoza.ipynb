{
  "nbformat": 4,
  "nbformat_minor": 0,
  "metadata": {
    "colab": {
      "provenance": []
    },
    "kernelspec": {
      "name": "python3",
      "display_name": "Python 3"
    }
  },
  "cells": [
    {
      "cell_type": "markdown",
      "metadata": {
        "id": "view-in-github"
      },
      "source": [
        "<a href=\"https://colab.research.google.com/github/robitussin/CCDEPLRL_EXERCISES/blob/main/Exercise1.ipynb\" target=\"_parent\"><img src=\"https://colab.research.google.com/assets/colab-badge.svg\" alt=\"Open In Colab\"/></a>"
      ]
    },
    {
      "metadata": {
        "id": "tOoyQ70H00_s"
      },
      "cell_type": "markdown",
      "source": [
        "\n",
        "\n",
        "```\n",
        "# This is formatted as code\n",
        "```\n",
        "\n",
        "## Exercise 1\n",
        "In the course you learned how to do classification using Fashion MNIST, a data set containing items of clothing. There's another, similar dataset called MNIST which has items of handwriting -- the digits 0 through 9.\n",
        "\n",
        "Write an MNIST classifier that trains to 99% accuracy or above, and does it without a fixed number of epochs -- i.e. you should stop training once you reach that level of accuracy.\n",
        "\n",
        "Some notes:\n",
        "1. It should succeed in less than 10 epochs, so it is okay to change epochs to 10, but nothing larger\n",
        "2. When it reaches 99% or greater it should print out the string \"Reached 99% accuracy so cancelling training!\"\n",
        "3. If you add any additional variables, make sure you use the same names as the ones used in the class\n",
        "\n",
        "I've started the code for you below -- how would you finish it?"
      ]
    },
    {
      "metadata": {
        "id": "9rvXQGAA0ssC"
      },
      "cell_type": "code",
      "source": [
        "# YOUR CODE SHOULD START HERE\n",
        "# YOUR CODE SHOULD END HERE\n",
        "import tensorflow as tf\n",
        "mnist = tf.keras.datasets.mnist"
      ],
      "execution_count": 9,
      "outputs": []
    },
    {
      "cell_type": "code",
      "source": [
        "(x_train, y_train),(x_test, y_test) = mnist.load_data()\n",
        "# YOUR CODE SHOULD START HERE\n",
        "x_train, x_test = x_train / 255.0, x_test / 255.0\n",
        "# YOUR CODE SHOULD END HERE"
      ],
      "metadata": {
        "id": "T8Hou2IYBeYD"
      },
      "execution_count": 10,
      "outputs": []
    },
    {
      "cell_type": "code",
      "source": [
        "model = tf.keras.models.Sequential([\n",
        "# YOUR CODE SHOULD START HERE\n",
        "tf.keras.layers.Flatten(),\n",
        "tf.keras.layers.Dense(1024, activation=tf.nn.relu),\n",
        "tf.keras.layers.Dense(10, activation=tf.nn.softmax)\n",
        "# YOUR CODE SHOULD END HERE\n",
        "])"
      ],
      "metadata": {
        "id": "emRcp1_FBbFc"
      },
      "execution_count": 11,
      "outputs": []
    },
    {
      "cell_type": "code",
      "source": [
        "model.compile(optimizer='adam',\n",
        "              loss='sparse_categorical_crossentropy',\n",
        "              metrics=['accuracy'])\n",
        "\n",
        "# YOUR CODE SHOULD START HERE\n",
        "class myCallback(tf.keras.callbacks.Callback):\n",
        "    def on_epoch_end(self, epoch, logs={}):\n",
        "        if logs.get('accuracy') >= 0.99:\n",
        "            print(\"\\nReached 99% accuracy so cancelling training!\")\n",
        "            self.model.stop_training = True\n",
        "\n",
        "callbacks = myCallback()\n",
        "\n",
        "model.fit(x_train, y_train, epochs=9, callbacks=[callbacks])\n",
        "\n",
        "print(\"\\nEvaluation:\")\n",
        "print(model.evaluate(x_test, y_test))\n",
        "\n",
        "print(\"\\nPrediction:\")\n",
        "classifications = model.predict(x_test)\n",
        "print(classifications[0])\n",
        "print(y_test[0])\n",
        "\n",
        "# YOUR CODE SHOULD END HERE"
      ],
      "metadata": {
        "id": "4nZ9QYNZBcbQ",
        "colab": {
          "base_uri": "https://localhost:8080/"
        },
        "outputId": "5f266a1f-9497-4efd-b639-4e54d4d6aa5b"
      },
      "execution_count": 12,
      "outputs": [
        {
          "output_type": "stream",
          "name": "stdout",
          "text": [
            "Epoch 1/9\n",
            "1875/1875 [==============================] - 21s 11ms/step - loss: 0.1834 - accuracy: 0.9447\n",
            "Epoch 2/9\n",
            "1875/1875 [==============================] - 21s 11ms/step - loss: 0.0733 - accuracy: 0.9778\n",
            "Epoch 3/9\n",
            "1875/1875 [==============================] - 20s 11ms/step - loss: 0.0464 - accuracy: 0.9858\n",
            "Epoch 4/9\n",
            "1875/1875 [==============================] - 20s 11ms/step - loss: 0.0358 - accuracy: 0.9880\n",
            "Epoch 5/9\n",
            "1875/1875 [==============================] - ETA: 0s - loss: 0.0257 - accuracy: 0.9914\n",
            "Reached 99% accuracy so cancelling training!\n",
            "1875/1875 [==============================] - 20s 11ms/step - loss: 0.0257 - accuracy: 0.9914\n",
            "\n",
            "Evaluation:\n",
            "313/313 [==============================] - 1s 4ms/step - loss: 0.0687 - accuracy: 0.9815\n",
            "[0.06873275339603424, 0.9815000295639038]\n",
            "\n",
            "Prediction:\n",
            "313/313 [==============================] - 1s 3ms/step\n",
            "[4.5770687e-10 8.5584001e-10 8.9638634e-09 7.5976789e-07 2.4978733e-13\n",
            " 6.0384737e-09 6.4566858e-13 9.9999911e-01 4.5723306e-10 1.6638302e-07]\n",
            "7\n"
          ]
        }
      ]
    }
  ]
}